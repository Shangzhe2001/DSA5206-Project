{
 "cells": [
  {
   "cell_type": "markdown",
   "metadata": {},
   "source": [
    "DSA5206 Project Part 1"
   ]
  },
  {
   "cell_type": "code",
   "execution_count": 1,
   "metadata": {},
   "outputs": [
    {
     "name": "stdout",
     "output_type": "stream",
     "text": [
      "[ 1.7255986e-06 -1.0000000e+00]\n"
     ]
    }
   ],
   "source": [
    "import numpy as np\n",
    "import random\n",
    "random.seed(5206)\n",
    "\n",
    "ns, nt, dt = 1000, 1000, 1e-3\n",
    "A = np.array([[-1, 0], [0, -10]])\n",
    "\n",
    "# Simulate trajectories\n",
    "def sim_traj(A, nt, dt):\n",
    "    h = np.zeros((2, nt))\n",
    "    for t in range(1, nt):\n",
    "        h[:, t] = h[:, t-1] + (A @ h[:, t-1] + np.array([1e-3, -1e3]) * np.random.normal()) * dt\n",
    "    return h\n",
    "\n",
    "trajs = np.array([sim_traj(A, nt, dt) for i in range(ns)])\n",
    "\n",
    "# Calculate leading POD mode\n",
    "data = np.mean(trajs, axis=0)\n",
    "C = data @ data.T / nt\n",
    "vals, vecs = np.linalg.eig(C)\n",
    "mode = vecs[:, np.argmax(vals)]\n",
    "print(mode)\n"
   ]
  },
  {
   "cell_type": "code",
   "execution_count": 4,
   "metadata": {},
   "outputs": [
    {
     "data": {
      "text/plain": [
       "(2, 1000)"
      ]
     },
     "execution_count": 4,
     "metadata": {},
     "output_type": "execute_result"
    }
   ],
   "source": [
    "data.shape"
   ]
  },
  {
   "cell_type": "code",
   "execution_count": 5,
   "metadata": {},
   "outputs": [
    {
     "name": "stdout",
     "output_type": "stream",
     "text": [
      "Controllability Gramian Wc: [[4.32332358e-07 9.09075726e-02]\n",
      " [9.09075726e-02 4.99999999e+04]]\n",
      "Eigenvalues of Wc: [2.67049472e-07 4.99999999e+04]\n"
     ]
    }
   ],
   "source": [
    "from scipy.linalg import expm\n",
    "from scipy.integrate import quad\n",
    "\n",
    "# Define the matrices A and B\n",
    "A = np.array([[-1, 0], [0, -10]])\n",
    "B = np.array([[1e-3], [1e3]])\n",
    "\n",
    "# Function to calculate the matrix exponential product at each point in time\n",
    "def integrand(t, A, B):\n",
    "    return expm(A * t) @ B @ B.T @ expm(A.T * t)\n",
    "\n",
    "# Integration bounds\n",
    "t0 = 0\n",
    "t1 = 1\n",
    "\n",
    "# Perform the integration for each element of the Gramian matrix\n",
    "Wc = np.zeros((2, 2))\n",
    "for i in range(2):\n",
    "    for j in range(2):\n",
    "        # Using a lambda function to pass i and j along with the integrand\n",
    "        Wc[i, j], _ = quad(lambda t: integrand(t, A, B)[i, j], t0, t1)\n",
    "\n",
    "# Compute the eigenvalues of the Gramian\n",
    "eigenvalues = np.linalg.eigvals(Wc)\n",
    "\n",
    "print(\"Controllability Gramian Wc:\", Wc)\n",
    "print(\"Eigenvalues of Wc:\", eigenvalues)"
   ]
  },
  {
   "cell_type": "code",
   "execution_count": 6,
   "metadata": {},
   "outputs": [
    {
     "data": {
      "text/plain": [
       "(array([[ -1.,   0.],\n",
       "        [  0., -10.]]),\n",
       " array([[1.e-06],\n",
       "        [1.e+06]]))"
      ]
     },
     "execution_count": 6,
     "metadata": {},
     "output_type": "execute_result"
    }
   ],
   "source": [
    "# Define the transformation matrix T\n",
    "T = np.array([[10**3, 0], [0, 10**-3]])\n",
    "\n",
    "# Calculate the inverse of T\n",
    "T_inv = np.linalg.inv(T)\n",
    "\n",
    "# Compute the new A and B matrices for the transformed system\n",
    "A_tilde = T_inv @ A @ T\n",
    "B_tilde = T_inv @ B\n",
    "\n",
    "A_tilde, B_tilde"
   ]
  },
  {
   "cell_type": "code",
   "execution_count": null,
   "metadata": {},
   "outputs": [],
   "source": [
    "# Calculate the controllability Gramian for the transformed system\n",
    "Wc_tilde = np.zeros((2, 2))\n",
    "for i in range(2):\n",
    "    for j in range(2):\n",
    "        Wc_tilde[i, j], _ = quad(lambda t: integrand(t, A_tilde, B_tilde)[i, j], t0, t1)\n",
    "\n",
    "# Compute the eigenvalues of Wc_tilde(1)\n",
    "eigenvalues_tilde = np.linalg.eigvals(Wc_tilde)\n",
    "\n",
    "Wc_tilde, eigenvalues_tilde"
   ]
  }
 ],
 "metadata": {
  "kernelspec": {
   "display_name": "Python 3",
   "language": "python",
   "name": "python3"
  },
  "language_info": {
   "codemirror_mode": {
    "name": "ipython",
    "version": 3
   },
   "file_extension": ".py",
   "mimetype": "text/x-python",
   "name": "python",
   "nbconvert_exporter": "python",
   "pygments_lexer": "ipython3",
   "version": "3.11.9"
  }
 },
 "nbformat": 4,
 "nbformat_minor": 2
}
